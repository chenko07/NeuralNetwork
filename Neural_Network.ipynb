{
  "nbformat": 4,
  "nbformat_minor": 0,
  "metadata": {
    "colab": {
      "provenance": []
    },
    "kernelspec": {
      "name": "python3",
      "display_name": "Python 3"
    },
    "language_info": {
      "name": "python"
    }
  },
  "cells": [
    {
      "cell_type": "markdown",
      "source": [
        "Single Layer Perceptron \n",
        "----\n",
        "\n"
      ],
      "metadata": {
        "id": "RIAW3jj8QKqP"
      }
    },
    {
      "cell_type": "code",
      "execution_count": 1,
      "metadata": {
        "colab": {
          "base_uri": "https://localhost:8080/"
        },
        "id": "uwFmayE4PsCw",
        "outputId": "fa39dc1d-5007-40fb-d7b6-af71dc150e12"
      },
      "outputs": [
        {
          "output_type": "stream",
          "name": "stdout",
          "text": [
            "1\n"
          ]
        }
      ],
      "source": [
        "import numpy as np\n",
        "\n",
        "class Perceptron:\n",
        "    def __init__(self, input_size, learning_rate=0.01, epochs=100):\n",
        "        self.weights = np.zeros(input_size + 1)  # +1 for bias\n",
        "        self.learning_rate = learning_rate\n",
        "        self.epochs = epochs\n",
        "\n",
        "    def predict(self, inputs):\n",
        "        summation = np.dot(inputs, self.weights[1:]) + self.weights[0]\n",
        "        return 1 if summation > 0 else 0\n",
        "\n",
        "    def train(self, training_inputs, labels):\n",
        "        for _ in range(self.epochs):\n",
        "            for inputs, label in zip(training_inputs, labels):\n",
        "                prediction = self.predict(inputs)\n",
        "                self.weights[1:] += self.learning_rate * (label - prediction) * inputs\n",
        "                self.weights[0] += self.learning_rate * (label - prediction)\n",
        "\n",
        "# Contoh penggunaan Perceptron\n",
        "training_inputs = np.array([[0, 0], [0, 1], [1, 0], [1, 1]])\n",
        "labels = np.array([0, 0, 0, 1])\n",
        "\n",
        "perceptron = Perceptron(input_size=2)\n",
        "perceptron.train(training_inputs, labels)\n",
        "\n",
        "inputs = np.array([1, 1])\n",
        "print(perceptron.predict(inputs))\n"
      ]
    },
    {
      "cell_type": "code",
      "source": [
        "import numpy as np\n",
        "\n",
        "class Perceptron:\n",
        "    def __init__(self, input_size, learning_rate=0.01, epochs=100):\n",
        "        self.weights = np.zeros(input_size + 1)  # +1 for bias\n",
        "        self.learning_rate = learning_rate\n",
        "        self.epochs = epochs\n",
        "\n",
        "    def preprocess_data(self, data):\n",
        "        max_value = np.max(data)\n",
        "        min_value = np.min(data)\n",
        "        normalized_data = (data - min_value) / (max_value - min_value)\n",
        "        return normalized_data\n",
        "\n",
        "    def predict(self, inputs):\n",
        "        summation = np.dot(inputs, self.weights[1:]) + self.weights[0]\n",
        "        return 1 if summation > 0 else 0\n",
        "\n",
        "    def train(self, training_inputs, labels):\n",
        "        for _ in range(self.epochs):\n",
        "            for inputs, label in zip(training_inputs, labels):\n",
        "                prediction = self.predict(inputs)\n",
        "                self.weights[1:] += self.learning_rate * (label - prediction) * inputs\n",
        "                self.weights[0] += self.learning_rate * (label - prediction)\n",
        "\n",
        "    def evaluate_accuracy(self, test_inputs, labels):\n",
        "        predictions = []\n",
        "        correct = 0\n",
        "        total = len(test_inputs)\n",
        "\n",
        "        for inputs, label in zip(test_inputs, labels):\n",
        "            prediction = self.predict(inputs)\n",
        "            predictions.append(prediction)\n",
        "            if prediction == label:\n",
        "                correct += 1\n",
        "\n",
        "        accuracy = (correct / total) * 100\n",
        "        return accuracy, predictions\n",
        "\n",
        "# Mendapatkan input dari pengguna untuk data training\n",
        "input_data = []\n",
        "num_features = int(input(\"Masukkan jumlah fitur: \"))\n",
        "num_samples = int(input(\"Masukkan jumlah sampel: \"))\n",
        "\n",
        "for i in range(num_samples):\n",
        "    sample = []\n",
        "    for j in range(num_features):\n",
        "        value = float(input(f\"Masukkan nilai untuk fitur {j+1} pada sampel {i+1}: \"))\n",
        "        sample.append(value)\n",
        "    input_data.append(sample)\n",
        "\n",
        "# Mendapatkan label dari pengguna untuk data training\n",
        "labels = []\n",
        "for i in range(num_samples):\n",
        "    label = int(input(f\"Masukkan label (0 atau 1) untuk sampel {i+1}: \"))\n",
        "    labels.append(label)\n",
        "\n",
        "# Contoh penggunaan Perceptron\n",
        "perceptron = Perceptron(input_size=num_features)\n",
        "\n",
        "training_inputs = perceptron.preprocess_data(np.array(input_data))\n",
        "labels = np.array(labels)\n",
        "\n",
        "perceptron.train(training_inputs, labels)\n",
        "\n",
        "# Mendapatkan input dari pengguna untuk data uji\n",
        "num_test_samples = int(input(\"Masukkan jumlah sampel untuk pengujian: \"))\n",
        "test_data = []\n",
        "\n",
        "for i in range(num_test_samples):\n",
        "    sample = []\n",
        "    for j in range(num_features):\n",
        "        value = float(input(f\"Masukkan nilai fitur {j+1} pada sampel {i+1}: \"))\n",
        "        sample.append(value)\n",
        "    test_data.append(sample)\n",
        "\n",
        "test_inputs = perceptron.preprocess_data(np.array(test_data))\n",
        "\n",
        "# Mendapatkan label dari pengguna untuk data uji (untuk menghitung akurasi)\n",
        "test_labels = []\n",
        "for i in range(num_test_samples):\n",
        "    label = int(input(f\"Masukkan label (0 atau 1) untuk sampel {i+1}: \"))\n",
        "    test_labels.append(label)\n",
        "\n",
        "# Evaluasi akurasi dan prediksi pada data uji\n",
        "accuracy, predictions = perceptron.evaluate_accuracy(test_inputs, np.array(test_labels))\n",
        "\n",
        "# Menampilkan hasil akurasi dan prediksi\n",
        "print(\"Akurasi:\", accuracy, \"%\")\n",
        "print(\"Prediksi:\", predictions)\n"
      ],
      "metadata": {
        "id": "yl9PcrA0Rypz",
        "colab": {
          "base_uri": "https://localhost:8080/"
        },
        "outputId": "13ea71d5-4798-422d-d7a5-41c684ac199c"
      },
      "execution_count": 2,
      "outputs": [
        {
          "output_type": "stream",
          "name": "stdout",
          "text": [
            "Masukkan jumlah fitur: 4\n",
            "Masukkan jumlah sampel: 4\n",
            "Masukkan nilai untuk fitur 1 pada sampel 1: 22\n",
            "Masukkan nilai untuk fitur 2 pada sampel 1: 23\n",
            "Masukkan nilai untuk fitur 3 pada sampel 1: 24\n",
            "Masukkan nilai untuk fitur 4 pada sampel 1: 25\n",
            "Masukkan nilai untuk fitur 1 pada sampel 2: 26\n",
            "Masukkan nilai untuk fitur 2 pada sampel 2: 27\n",
            "Masukkan nilai untuk fitur 3 pada sampel 2: 28\n",
            "Masukkan nilai untuk fitur 4 pada sampel 2: 29\n",
            "Masukkan nilai untuk fitur 1 pada sampel 3: 30\n",
            "Masukkan nilai untuk fitur 2 pada sampel 3: 31\n",
            "Masukkan nilai untuk fitur 3 pada sampel 3: 32\n",
            "Masukkan nilai untuk fitur 4 pada sampel 3: 33\n",
            "Masukkan nilai untuk fitur 1 pada sampel 4: 34\n",
            "Masukkan nilai untuk fitur 2 pada sampel 4: 35\n",
            "Masukkan nilai untuk fitur 3 pada sampel 4: 36\n",
            "Masukkan nilai untuk fitur 4 pada sampel 4: 37\n",
            "Masukkan label (0 atau 1) untuk sampel 1: 38\n",
            "Masukkan label (0 atau 1) untuk sampel 2: 39\n",
            "Masukkan label (0 atau 1) untuk sampel 3: 1\n",
            "Masukkan label (0 atau 1) untuk sampel 4: 0\n",
            "Masukkan jumlah sampel untuk pengujian: 1\n",
            "Masukkan nilai fitur 1 pada sampel 1: 22\n",
            "Masukkan nilai fitur 2 pada sampel 1: 24\n",
            "Masukkan nilai fitur 3 pada sampel 1: 25\n",
            "Masukkan nilai fitur 4 pada sampel 1: 30\n",
            "Masukkan label (0 atau 1) untuk sampel 1: 1\n",
            "Akurasi: 100.0 %\n",
            "Prediksi: [1]\n"
          ]
        }
      ]
    },
    {
      "cell_type": "markdown",
      "source": [],
      "metadata": {
        "id": "HrhXbNuuSDOP"
      }
    },
    {
      "cell_type": "markdown",
      "source": [
        "Multi Layer Perceptron\n",
        "---\n"
      ],
      "metadata": {
        "id": "6EJXyi6zQPvc"
      }
    },
    {
      "cell_type": "code",
      "source": [
        "import numpy as np\n",
        "\n",
        "def sigmoid(x):\n",
        "    return 1 / (1 + np.exp(-x))\n",
        "\n",
        "def sigmoid_derivative(x):\n",
        "    return x * (1 - x)\n",
        "\n",
        "class MLP:\n",
        "    def __init__(self, input_size, hidden_size, output_size):\n",
        "        self.hidden_weights = np.random.randn(input_size, hidden_size)\n",
        "        self.hidden_bias = np.zeros((1, hidden_size))\n",
        "        self.output_weights = np.random.randn(hidden_size, output_size)\n",
        "        self.output_bias = np.zeros((1, output_size))\n",
        "\n",
        "    def forward(self, inputs):\n",
        "        hidden_layer = sigmoid(np.dot(inputs, self.hidden_weights) + self.hidden_bias)\n",
        "        output_layer = sigmoid(np.dot(hidden_layer, self.output_weights) + self.output_bias)\n",
        "        return output_layer\n",
        "\n",
        "# Inisialisasi bobot manual\n",
        "hidden_weights = np.array([[0.2, 0.4], [0.5, 0.3]])\n",
        "hidden_bias = np.array([[0.1, 0.2]])\n",
        "output_weights = np.array([[0.3], [0.6]])\n",
        "output_bias = np.array([[0.4]])\n",
        "\n",
        "# Contoh penggunaan MLP\n",
        "mlp = MLP(input_size=2, hidden_size=2, output_size=1)\n",
        "\n",
        "# Memasukkan bobot manual ke MLP\n",
        "mlp.hidden_weights = hidden_weights\n",
        "mlp.hidden_bias = hidden_bias\n",
        "mlp.output_weights = output_weights\n",
        "mlp.output_bias = output_bias\n",
        "\n",
        "# Data uji\n",
        "X_test = np.array([[0, 0], [0, 1], [1, 0], [1, 1]])\n",
        "\n",
        "# Melakukan prediksi pada data uji\n",
        "predictions = mlp.forward(X_test)\n",
        "\n",
        "# Menampilkan hasil prediksi\n",
        "for i in range(len(X_test)):\n",
        "    print(f\"Input: {X_test[i]} - Prediksi: {predictions[i]}\")\n"
      ],
      "metadata": {
        "colab": {
          "base_uri": "https://localhost:8080/"
        },
        "id": "r9LpfVDRQS6h",
        "outputId": "d32115e2-6ef7-43e2-acc5-1a32ea293a60"
      },
      "execution_count": 3,
      "outputs": [
        {
          "output_type": "stream",
          "name": "stdout",
          "text": [
            "Input: [0 0] - Prediksi: [0.70835212]\n",
            "Input: [0 1] - Prediksi: [0.72455556]\n",
            "Input: [1 0] - Prediksi: [0.72306705]\n",
            "Input: [1 1] - Prediksi: [0.73760589]\n"
          ]
        }
      ]
    },
    {
      "cell_type": "code",
      "source": [
        "import numpy as np\n"
      ],
      "metadata": {
        "id": "2F7WiCQRe89I"
      },
      "execution_count": 4,
      "outputs": []
    },
    {
      "cell_type": "code",
      "source": [
        "class Perceptron:\n",
        "  def __init__(self, input_size, learning_rate = 0.01, epochs = 100):\n",
        "    self.weights = np.zeros(input_size + 1) #nilai bisa mutlak\n",
        "    self.learning_rate = learning_rate\n",
        "    self.epochs = epochs\n",
        "\n",
        "  def predict(self, inputs):\n",
        "    sumation = np.dot(inputs, self.weights[1:]) + self.weights[0]\n",
        "    return 1 if sumation >0 else 0\n",
        "\n",
        "  def train(self, training_inputs, labels):\n",
        "    for _ in range(self.epochs):\n",
        "      for inputs, label in zip(training_inputs, labels):\n",
        "        prediction = self.predict(inputs)\n",
        "        self.weights[1:] += self.learning_rate * (label - prediction) * inputs\n",
        "        self.weights[0] += self.learning_rate * (label - prediction)\n",
        "\n",
        "training_inputs = np.array(([5, 7], [1, 2], [6, 9], [4, 2], [3, 6]))\n",
        "labels = np.array([1,0,0,1,1])\n",
        "\n",
        "perceptron = Perceptron(input_size= 2)\n",
        "perceptron.train(training_inputs, labels)\n",
        "\n",
        "inputs = np.array([3, 8])\n",
        "print(\"prediksinya adalah : \", perceptron.predict(inputs))"
      ],
      "metadata": {
        "colab": {
          "base_uri": "https://localhost:8080/"
        },
        "id": "BnBQUBlCfk8c",
        "outputId": "f8fc815e-aff9-4d36-feb4-25e751d44ee6"
      },
      "execution_count": 5,
      "outputs": [
        {
          "output_type": "stream",
          "name": "stdout",
          "text": [
            "prediksinya adalah :  0\n"
          ]
        }
      ]
    },
    {
      "cell_type": "code",
      "source": [
        "class Perceptron:\n",
        "  def __init__(self, input_size, learning_rate = 0.01, epochs = 100):\n",
        "    self.weights = np.zeros(input_size + 1) #nilai bisa mutlak\n",
        "    self.learning_rate = learning_rate\n",
        "    self.epochs = epochs\n",
        "  \n",
        "  def preprocess_data(self, data):\n",
        "    min_value = np.min(data)\n",
        "    max_value = np.max(data)\n",
        "    normalized_data = (data - min_value) / (max_value - min_value)\n",
        "    return normalized_data\n",
        "\n",
        "  def predict(self, inputs):\n",
        "    sumation = np.dot(inputs, self.weights[1:]) + self.weights[0]\n",
        "    return 1 if sumation >0 else 0\n",
        "\n",
        "  def train(self, training_inputs, labels):\n",
        "    for _ in range(self.epochs):\n",
        "      for inputs, label in zip(training_inputs, labels):\n",
        "        prediction = self.predict(inputs)\n",
        "        self.weights[1:] += self.learning_rate * (label - prediction) * inputs\n",
        "        self.weights[0] += self.learning_rate * (label - prediction)\n",
        "\n",
        "  def evaluate_accuracy(self, test_inputs, labels):\n",
        "    predictions = []\n",
        "    correct = 0\n",
        "    total = len(test_inputs)\n",
        "\n",
        "    for inputs, label in zip(test_inputs, labels):\n",
        "      prediction = self.predict(inputs)\n",
        "      predictions.append(prediction)\n",
        "\n",
        "      if prediction == label:\n",
        "        correct += 1\n",
        "\n",
        "      accuracy = (correct / total) * 100\n",
        "\n",
        "    return accuracy, predictions"
      ],
      "metadata": {
        "id": "1MVqplmyj6-_"
      },
      "execution_count": 6,
      "outputs": []
    },
    {
      "cell_type": "code",
      "source": [
        "input_data = []\n",
        "num_fetures = int(input(\"Masukan jumlah fitur :\"))\n",
        "num_samples = int(input(\"Masukan jumlah sampel :\"))\n",
        "\n",
        "for i in range(num_samples):\n",
        "  sample = []\n",
        "  for j in range(num_features):\n",
        "    value = float(input(f\"Maskkan nilai untuk fitur {j+i} pada sampel {i+1} :\"))\n",
        "    sample.append(value)\n",
        "    input_data.append(sample)\n",
        "\n",
        "labels = []\n",
        "for i in range(num_samples):\n",
        "  label = int(input(f\"Masukan label untuk sampel {i+1} :\"))\n",
        "  labels.append(label)\n",
        "\n",
        "#Model perceptron\n",
        "\n",
        "perceptron = Perceptron(input_size = num_features)\n",
        "training_inputs = perceptron.preprocess_data(np.array(input_data))\n",
        "labels = np.array(labels)\n",
        "\n",
        "perceptron.train(training_inputs, labels)\n",
        "\n",
        "#inputan test\n",
        "num_test_samples = int(input(\"Masukkan jumlah sampe uji: \"))\n",
        "test_data = []\n",
        "for i in range(num_test_samples):\n",
        "  sample = []\n",
        "  for j in range(num_features):\n",
        "    value = float(input(f\"Masuukan nilai fitur {j+1} pada sampel {i+1} : \"))\n",
        "    sample.append(value)\n",
        "  test_data.append(sample)\n",
        "\n",
        "test_inputs = perceptron.preprocess_data(np.array(test_data))\n",
        "\n",
        "test_labels = []\n",
        "for i in range(num_test_samples):\n",
        "  label = int(input(f\"Masukan label sampel {i+1} :\"))\n",
        "  test_labels.append(label)\n",
        "\n",
        "\n",
        "accuracy, predictions = perceptron.evaluate_accuracy(test_inputs, \n",
        "                                                     np.array(test_labels))\n",
        "\n",
        "print(\"Akurasi :\", accuracy)\n",
        "print(\"Pediksi : \", predictions)"
      ],
      "metadata": {
        "colab": {
          "base_uri": "https://localhost:8080/"
        },
        "id": "oaXXSwDnldKT",
        "outputId": "668549e8-9c71-4541-fd29-409b4ec96372"
      },
      "execution_count": 7,
      "outputs": [
        {
          "output_type": "stream",
          "name": "stdout",
          "text": [
            "Masukan jumlah fitur :2\n",
            "Masukan jumlah sampel :2\n",
            "Maskkan nilai untuk fitur 0 pada sampel 1 :22\n",
            "Maskkan nilai untuk fitur 1 pada sampel 1 :11\n",
            "Maskkan nilai untuk fitur 2 pada sampel 1 :30\n",
            "Maskkan nilai untuk fitur 3 pada sampel 1 :39\n",
            "Maskkan nilai untuk fitur 1 pada sampel 2 :22\n",
            "Maskkan nilai untuk fitur 2 pada sampel 2 :40\n",
            "Maskkan nilai untuk fitur 3 pada sampel 2 :5\n",
            "Maskkan nilai untuk fitur 4 pada sampel 2 :50\n",
            "Masukan label untuk sampel 1 :1\n",
            "Masukan label untuk sampel 2 :0\n",
            "Masukkan jumlah sampe uji: 1\n",
            "Masuukan nilai fitur 1 pada sampel 1 : 23\n",
            "Masuukan nilai fitur 2 pada sampel 1 : 33\n",
            "Masuukan nilai fitur 3 pada sampel 1 : 39\n",
            "Masuukan nilai fitur 4 pada sampel 1 : 33\n",
            "Masukan label sampel 1 :1\n",
            "Akurasi : 0.0\n",
            "Pediksi :  [0]\n"
          ]
        }
      ]
    },
    {
      "cell_type": "code",
      "source": [],
      "metadata": {
        "id": "q_CiaROamvZD"
      },
      "execution_count": null,
      "outputs": []
    },
    {
      "cell_type": "code",
      "source": [
        "import numpy as np\n",
        "\n",
        "from sklearn.linear_model import Perceptron\n",
        "from sklearn.preprocessing import StandardScaler\n",
        "from sklearn.model_selection import train_test_split\n",
        "from sklearn.metrics import accuracy_score\n",
        "\n",
        "X = [[0.1, 0.2, 0.3], [0.4, 0.5, 0.6], [0.7, 0.8, 0.9], [0.2, 0.4, 0.6]]\n",
        "y = [0, 1, 1, 0]\n",
        "\n",
        "X_train, X_test, y_train, y_test = train_test_split(X,y, test_size = 0.2,random_state = 32)\n",
        "\n",
        "scaler = StandardScaler()\n",
        "X_train = scaler.fit_transform(X_train)\n",
        "X_test = scaler.transform(X_test)\n",
        "\n",
        "perceptron = Perceptron()\n",
        "\n",
        "perceptron.fit(X_train, y_train)\n",
        "\n",
        "y_pred = perceptron.predict(X_test)\n",
        "\n",
        "accuracy = accuracy_score(y_test, y_pred)\n",
        "print(\"Akurasi\", accuracy)\n"
      ],
      "metadata": {
        "colab": {
          "base_uri": "https://localhost:8080/"
        },
        "id": "b3YKKeB5qqFZ",
        "outputId": "0e0b33e5-181f-4444-c619-249cb2aa705e"
      },
      "execution_count": 8,
      "outputs": [
        {
          "output_type": "stream",
          "name": "stdout",
          "text": [
            "Akurasi 1.0\n"
          ]
        }
      ]
    }
  ]
}